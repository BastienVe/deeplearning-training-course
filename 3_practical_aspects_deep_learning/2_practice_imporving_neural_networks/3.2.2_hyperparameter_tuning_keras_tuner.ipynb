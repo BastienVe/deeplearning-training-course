{
 "cells": [
  {
   "cell_type": "markdown",
   "metadata": {
    "id": "Tce3stUlHN0L"
   },
   "source": [
    "##### Copyright 2020 The TensorFlow Authors."
   ]
  },
  {
   "cell_type": "code",
   "execution_count": 1,
   "metadata": {
    "cellView": "form",
    "id": "tuOe1ymfHZPu"
   },
   "outputs": [],
   "source": [
    "#@title Licensed under the Apache License, Version 2.0 (the \"License\");\n",
    "# you may not use this file except in compliance with the License.\n",
    "# You may obtain a copy of the License at\n",
    "#\n",
    "# https://www.apache.org/licenses/LICENSE-2.0\n",
    "#\n",
    "# Unless required by applicable law or agreed to in writing, software\n",
    "# distributed under the License is distributed on an \"AS IS\" BASIS,\n",
    "# WITHOUT WARRANTIES OR CONDITIONS OF ANY KIND, either express or implied.\n",
    "# See the License for the specific language governing permissions and\n",
    "# limitations under the License."
   ]
  },
  {
   "cell_type": "markdown",
   "metadata": {
    "id": "qFdPvlXBOdUN"
   },
   "source": [
    "# Introduction to the Keras Tuner"
   ]
  },
  {
   "cell_type": "markdown",
   "metadata": {
    "id": "xHxb-dlhMIzW"
   },
   "source": [
    "## Overview\n",
    "\n",
    "The Keras Tuner is a library that helps you pick the optimal set of hyperparameters for your TensorFlow program. The process of selecting the right set of hyperparameters for your machine learning (ML) application is called *hyperparameter tuning* or *hypertuning*. \n",
    "\n",
    "Hyperparameters are the variables that govern the training process and the topology of an ML model. These variables remain constant over the training process and directly impact the performance of your ML program. Hyperparameters are of two types:\n",
    "1. **Model hyperparameters** which influence model selection such as the number and width of hidden layers\n",
    "2. **Algorithm hyperparameters** which influence the speed and quality of the learning algorithm such as the learning rate for Stochastic Gradient Descent (SGD) and the number of nearest neighbors for a k Nearest Neighbors (KNN) classifier\n",
    "\n",
    "In this tutorial, you will use the Keras Tuner to perform hypertuning for an image classification application."
   ]
  },
  {
   "cell_type": "markdown",
   "metadata": {
    "id": "MUXex9ctTuDB"
   },
   "source": [
    "## Setup"
   ]
  },
  {
   "cell_type": "code",
   "execution_count": 2,
   "metadata": {
    "id": "IqR2PQG4ZaZ0"
   },
   "outputs": [],
   "source": [
    "import tensorflow as tf\n",
    "from tensorflow import keras\n",
    "\n",
    "import IPython"
   ]
  },
  {
   "cell_type": "markdown",
   "metadata": {
    "id": "g83Lwsy-Aq2_"
   },
   "source": [
    "Install and import the Keras Tuner."
   ]
  },
  {
   "cell_type": "code",
   "execution_count": 3,
   "metadata": {
    "id": "_leAIdFKAxAD"
   },
   "outputs": [],
   "source": [
    "#!pip install -q -U keras-tuner\n",
    "import kerastuner as kt"
   ]
  },
  {
   "cell_type": "markdown",
   "metadata": {
    "id": "ReV_UXOgCZvx"
   },
   "source": [
    "## Download and prepare the dataset\n",
    "\n",
    "In this tutorial, you will use the Keras Tuner to find the best hyperparameters for a machine learning model that classifies images of clothing from the [Fashion MNIST dataset](https://github.com/zalandoresearch/fashion-mnist). "
   ]
  },
  {
   "cell_type": "markdown",
   "metadata": {
    "id": "HljH_ENLEdHa"
   },
   "source": [
    "Load the data."
   ]
  },
  {
   "cell_type": "code",
   "execution_count": 4,
   "metadata": {
    "id": "OHlHs9Wj_PUM"
   },
   "outputs": [],
   "source": [
    "(img_train, label_train), (img_test, label_test) = keras.datasets.fashion_mnist.load_data()"
   ]
  },
  {
   "cell_type": "code",
   "execution_count": 5,
   "metadata": {
    "id": "bLVhXs3xrUD0"
   },
   "outputs": [],
   "source": [
    "# Normalize pixel values between 0 and 1\n",
    "img_train = img_train.astype('float32') / 255.0\n",
    "img_test = img_test.astype('float32') / 255.0"
   ]
  },
  {
   "cell_type": "markdown",
   "metadata": {
    "id": "K5YEL2H2Ax3e"
   },
   "source": [
    "## Define the model\n",
    "\n",
    "When you build a model for hypertuning, you also define the hyperparameter search space in addition to the model architecture. The model you set up for hypertuning is called a *hypermodel*.\n",
    "\n",
    "You can define a hypermodel through two approaches:\n",
    "\n",
    "* By using a model builder function\n",
    "* By subclassing the `HyperModel` class of the Keras Tuner API\n",
    "\n",
    "You can also use two pre-defined `HyperModel` classes - [HyperXception](https://keras-team.github.io/keras-tuner/documentation/hypermodels/#hyperxception-class) and [HyperResNet](https://keras-team.github.io/keras-tuner/documentation/hypermodels/#hyperresnet-class) for computer vision applications.\n",
    "\n",
    "In this tutorial, you use a model builder function to define the image classification model. The model builder function returns a compiled model and uses hyperparameters you define inline to hypertune the model."
   ]
  },
  {
   "cell_type": "code",
   "execution_count": 6,
   "metadata": {
    "id": "ZQKodC-jtsva"
   },
   "outputs": [],
   "source": [
    "def model_builder(hp):\n",
    "  model = keras.Sequential()\n",
    "  model.add(keras.layers.Flatten(input_shape=(28, 28)))\n",
    "  \n",
    "  # Tune the number of units in the first Dense layer\n",
    "  # Choose an optimal value between 32-512\n",
    "  hp_units = hp.Int('units', min_value = 32, max_value = 512, step = 32)\n",
    "  model.add(keras.layers.Dense(units = hp_units, activation = 'relu'))\n",
    "  model.add(keras.layers.Dense(10))\n",
    "\n",
    "  # Tune the learning rate for the optimizer \n",
    "  # Choose an optimal value from 0.01, 0.001, or 0.0001\n",
    "  hp_learning_rate = hp.Choice('learning_rate', values = [1e-2, 1e-3, 1e-4]) \n",
    "  \n",
    "  model.compile(optimizer = keras.optimizers.Adam(learning_rate = hp_learning_rate),\n",
    "                loss = keras.losses.SparseCategoricalCrossentropy(from_logits = True), \n",
    "                metrics = ['accuracy'])\n",
    "  \n",
    "  return model"
   ]
  },
  {
   "cell_type": "markdown",
   "metadata": {
    "id": "0J1VYw4q3x0b"
   },
   "source": [
    "## Instantiate the tuner and perform hypertuning\n",
    "\n",
    "Instantiate the tuner to perform the hypertuning. The Keras Tuner has four tuners available - `RandomSearch`, `Hyperband`, `BayesianOptimization`, and `Sklearn`. In this tutorial, you use the [Hyperband](https://arxiv.org/pdf/1603.06560.pdf) tuner. \n",
    "\n",
    "To instantiate the Hyperband tuner, you must specify the hypermodel, the `objective` to optimize and the maximum number of epochs to train (`max_epochs`)."
   ]
  },
  {
   "cell_type": "code",
   "execution_count": 7,
   "metadata": {
    "id": "oichQFly6Y46"
   },
   "outputs": [],
   "source": [
    "tuner = kt.Hyperband(model_builder,\n",
    "                     objective = 'val_accuracy', \n",
    "                     max_epochs = 10,\n",
    "                     factor = 3,\n",
    "                     directory = 'my_dir',\n",
    "                     project_name = 'intro_to_kt')                       "
   ]
  },
  {
   "cell_type": "markdown",
   "metadata": {
    "id": "VaIhhdKf9VtI"
   },
   "source": [
    "The Hyperband tuning algorithm uses adaptive resource allocation and early-stopping to quickly converge on a high-performing model. This is done using a sports championship style bracket. The algorithm trains a large number of models for a few epochs and carries forward only the top-performing half of models to the next round. "
   ]
  },
  {
   "cell_type": "markdown",
   "metadata": {
    "id": "oTeamrUWOJRb"
   },
   "source": [
    "Before running the hyperparameter search, define a callback to clear the training outputs at the end of every training step."
   ]
  },
  {
   "cell_type": "code",
   "execution_count": 8,
   "metadata": {
    "id": "Bbr_8QE76PJd"
   },
   "outputs": [],
   "source": [
    "class ClearTrainingOutput(tf.keras.callbacks.Callback):\n",
    "  def on_train_end(*args, **kwargs):\n",
    "    IPython.display.clear_output(wait = True)"
   ]
  },
  {
   "cell_type": "markdown",
   "metadata": {
    "id": "UKghEo15Tduy"
   },
   "source": [
    "Run the hyperparameter search. The arguments for the search method are the same as those used for `tf.keras.model.fit` in addition to the callback above."
   ]
  },
  {
   "cell_type": "code",
   "execution_count": 9,
   "metadata": {
    "id": "dSBQcTHF9cKt"
   },
   "outputs": [
    {
     "data": {
      "text/html": [
       "<span style=\"color:#4527A0\"><h1 style=\"font-size:18px\">Trial complete</h1></span>"
      ],
      "text/plain": [
       "<IPython.core.display.HTML object>"
      ]
     },
     "metadata": {},
     "output_type": "display_data"
    },
    {
     "data": {
      "text/html": [
       "<span style=\"color:#4527A0\"><h1 style=\"font-size:18px\">Trial summary</h1></span>"
      ],
      "text/plain": [
       "<IPython.core.display.HTML object>"
      ]
     },
     "metadata": {},
     "output_type": "display_data"
    },
    {
     "data": {
      "text/html": [
       "<span style=\"color:cyan\"> |-Trial ID: 2466d93d7d2b33aa611135e3941bbdac</span>"
      ],
      "text/plain": [
       "<IPython.core.display.HTML object>"
      ]
     },
     "metadata": {},
     "output_type": "display_data"
    },
    {
     "data": {
      "text/html": [
       "<span style=\"color:cyan\"> |-Score: 0.8824999928474426</span>"
      ],
      "text/plain": [
       "<IPython.core.display.HTML object>"
      ]
     },
     "metadata": {},
     "output_type": "display_data"
    },
    {
     "data": {
      "text/html": [
       "<span style=\"color:cyan\"> |-Best step: 0</span>"
      ],
      "text/plain": [
       "<IPython.core.display.HTML object>"
      ]
     },
     "metadata": {},
     "output_type": "display_data"
    },
    {
     "data": {
      "text/html": [
       "<span style=\"color:#7E57C2\"><h2 style=\"font-size:16px\">Hyperparameters:</h2></span>"
      ],
      "text/plain": [
       "<IPython.core.display.HTML object>"
      ]
     },
     "metadata": {},
     "output_type": "display_data"
    },
    {
     "data": {
      "text/html": [
       "<span style=\"color:cyan\"> |-learning_rate: 0.001</span>"
      ],
      "text/plain": [
       "<IPython.core.display.HTML object>"
      ]
     },
     "metadata": {},
     "output_type": "display_data"
    },
    {
     "data": {
      "text/html": [
       "<span style=\"color:blue\"> |-tuner/bracket: 0</span>"
      ],
      "text/plain": [
       "<IPython.core.display.HTML object>"
      ]
     },
     "metadata": {},
     "output_type": "display_data"
    },
    {
     "data": {
      "text/html": [
       "<span style=\"color:cyan\"> |-tuner/epochs: 10</span>"
      ],
      "text/plain": [
       "<IPython.core.display.HTML object>"
      ]
     },
     "metadata": {},
     "output_type": "display_data"
    },
    {
     "data": {
      "text/html": [
       "<span style=\"color:blue\"> |-tuner/initial_epoch: 0</span>"
      ],
      "text/plain": [
       "<IPython.core.display.HTML object>"
      ]
     },
     "metadata": {},
     "output_type": "display_data"
    },
    {
     "data": {
      "text/html": [
       "<span style=\"color:cyan\"> |-tuner/round: 0</span>"
      ],
      "text/plain": [
       "<IPython.core.display.HTML object>"
      ]
     },
     "metadata": {},
     "output_type": "display_data"
    },
    {
     "data": {
      "text/html": [
       "<span style=\"color:blue\"> |-units: 128</span>"
      ],
      "text/plain": [
       "<IPython.core.display.HTML object>"
      ]
     },
     "metadata": {},
     "output_type": "display_data"
    },
    {
     "name": "stdout",
     "output_type": "stream",
     "text": [
      "INFO:tensorflow:Oracle triggered exit\n",
      "\n",
      "The hyperparameter search is complete. The optimal number of units in the first densely-connected\n",
      "layer is 128 and the optimal learning rate for the optimizer\n",
      "is 0.001.\n",
      "\n"
     ]
    }
   ],
   "source": [
    "tuner.search(img_train, label_train, epochs = 10, validation_data = (img_test, label_test), callbacks = [ClearTrainingOutput()])\n",
    "\n",
    "# Get the optimal hyperparameters\n",
    "best_hps = tuner.get_best_hyperparameters(num_trials = 1)[0]\n",
    "\n",
    "print(f\"\"\"\n",
    "The hyperparameter search is complete. The optimal number of units in the first densely-connected\n",
    "layer is {best_hps.get('units')} and the optimal learning rate for the optimizer\n",
    "is {best_hps.get('learning_rate')}.\n",
    "\"\"\")"
   ]
  },
  {
   "cell_type": "markdown",
   "metadata": {
    "id": "Lak_ylf88xBv"
   },
   "source": [
    "To finish this tutorial, retrain the model with the optimal hyperparameters from the search."
   ]
  },
  {
   "cell_type": "code",
   "execution_count": 10,
   "metadata": {
    "id": "McO82AXOuxXh",
    "scrolled": false
   },
   "outputs": [
    {
     "name": "stdout",
     "output_type": "stream",
     "text": [
      "Epoch 1/10\n",
      "1875/1875 [==============================] - ETA: 0s - loss: 2.5947 - accuracy: 0.09 - ETA: 1s - loss: 1.1929 - accuracy: 0.59 - ETA: 1s - loss: 0.9877 - accuracy: 0.65 - ETA: 1s - loss: 0.8952 - accuracy: 0.69 - ETA: 1s - loss: 0.8237 - accuracy: 0.71 - ETA: 1s - loss: 0.7661 - accuracy: 0.73 - ETA: 1s - loss: 0.7246 - accuracy: 0.75 - ETA: 1s - loss: 0.6983 - accuracy: 0.75 - ETA: 1s - loss: 0.6797 - accuracy: 0.76 - ETA: 1s - loss: 0.6633 - accuracy: 0.77 - ETA: 1s - loss: 0.6467 - accuracy: 0.77 - ETA: 1s - loss: 0.6292 - accuracy: 0.78 - ETA: 1s - loss: 0.6157 - accuracy: 0.78 - ETA: 1s - loss: 0.6077 - accuracy: 0.78 - ETA: 1s - loss: 0.6025 - accuracy: 0.79 - ETA: 1s - loss: 0.5951 - accuracy: 0.79 - ETA: 1s - loss: 0.5907 - accuracy: 0.79 - ETA: 1s - loss: 0.5864 - accuracy: 0.79 - ETA: 1s - loss: 0.5819 - accuracy: 0.79 - ETA: 1s - loss: 0.5772 - accuracy: 0.80 - ETA: 1s - loss: 0.5747 - accuracy: 0.80 - ETA: 1s - loss: 0.5712 - accuracy: 0.80 - ETA: 1s - loss: 0.5674 - accuracy: 0.80 - ETA: 1s - loss: 0.5639 - accuracy: 0.80 - ETA: 1s - loss: 0.5597 - accuracy: 0.80 - ETA: 0s - loss: 0.5540 - accuracy: 0.80 - ETA: 0s - loss: 0.5481 - accuracy: 0.80 - ETA: 0s - loss: 0.5433 - accuracy: 0.81 - ETA: 0s - loss: 0.5407 - accuracy: 0.81 - ETA: 0s - loss: 0.5373 - accuracy: 0.81 - ETA: 0s - loss: 0.5336 - accuracy: 0.81 - ETA: 0s - loss: 0.5310 - accuracy: 0.81 - ETA: 0s - loss: 0.5279 - accuracy: 0.81 - ETA: 0s - loss: 0.5255 - accuracy: 0.81 - ETA: 0s - loss: 0.5226 - accuracy: 0.81 - ETA: 0s - loss: 0.5201 - accuracy: 0.81 - ETA: 0s - loss: 0.5176 - accuracy: 0.81 - ETA: 0s - loss: 0.5146 - accuracy: 0.82 - ETA: 0s - loss: 0.5109 - accuracy: 0.82 - ETA: 0s - loss: 0.5076 - accuracy: 0.82 - ETA: 0s - loss: 0.5059 - accuracy: 0.82 - ETA: 0s - loss: 0.5026 - accuracy: 0.82 - ETA: 0s - loss: 0.4991 - accuracy: 0.82 - ETA: 0s - loss: 0.4964 - accuracy: 0.82 - 2s 1ms/step - loss: 0.4963 - accuracy: 0.8259 - val_loss: 0.4155 - val_accuracy: 0.8511\n",
      "Epoch 2/10\n",
      "1875/1875 [==============================] - ETA: 0s - loss: 0.6044 - accuracy: 0.84 - ETA: 1s - loss: 0.3893 - accuracy: 0.85 - ETA: 1s - loss: 0.3810 - accuracy: 0.86 - ETA: 1s - loss: 0.3772 - accuracy: 0.86 - ETA: 1s - loss: 0.3688 - accuracy: 0.86 - ETA: 1s - loss: 0.3668 - accuracy: 0.86 - ETA: 1s - loss: 0.3689 - accuracy: 0.86 - ETA: 1s - loss: 0.3705 - accuracy: 0.86 - ETA: 1s - loss: 0.3735 - accuracy: 0.86 - ETA: 1s - loss: 0.3774 - accuracy: 0.86 - ETA: 1s - loss: 0.3789 - accuracy: 0.86 - ETA: 1s - loss: 0.3795 - accuracy: 0.86 - ETA: 1s - loss: 0.3829 - accuracy: 0.86 - ETA: 1s - loss: 0.3827 - accuracy: 0.86 - ETA: 1s - loss: 0.3790 - accuracy: 0.86 - ETA: 1s - loss: 0.3795 - accuracy: 0.86 - ETA: 1s - loss: 0.3806 - accuracy: 0.86 - ETA: 1s - loss: 0.3790 - accuracy: 0.86 - ETA: 1s - loss: 0.3787 - accuracy: 0.86 - ETA: 0s - loss: 0.3782 - accuracy: 0.86 - ETA: 0s - loss: 0.3777 - accuracy: 0.86 - ETA: 0s - loss: 0.3764 - accuracy: 0.86 - ETA: 0s - loss: 0.3756 - accuracy: 0.86 - ETA: 0s - loss: 0.3762 - accuracy: 0.86 - ETA: 0s - loss: 0.3757 - accuracy: 0.86 - ETA: 0s - loss: 0.3760 - accuracy: 0.86 - ETA: 0s - loss: 0.3761 - accuracy: 0.86 - ETA: 0s - loss: 0.3754 - accuracy: 0.86 - ETA: 0s - loss: 0.3742 - accuracy: 0.86 - ETA: 0s - loss: 0.3732 - accuracy: 0.86 - ETA: 0s - loss: 0.3739 - accuracy: 0.86 - ETA: 0s - loss: 0.3734 - accuracy: 0.86 - ETA: 0s - loss: 0.3734 - accuracy: 0.86 - ETA: 0s - loss: 0.3734 - accuracy: 0.86 - ETA: 0s - loss: 0.3734 - accuracy: 0.86 - ETA: 0s - loss: 0.3730 - accuracy: 0.86 - ETA: 0s - loss: 0.3725 - accuracy: 0.86 - ETA: 0s - loss: 0.3725 - accuracy: 0.86 - ETA: 0s - loss: 0.3717 - accuracy: 0.86 - 2s 1ms/step - loss: 0.3709 - accuracy: 0.8657 - val_loss: 0.4569 - val_accuracy: 0.8365\n",
      "Epoch 3/10\n",
      "1875/1875 [==============================] - ETA: 0s - loss: 0.4231 - accuracy: 0.84 - ETA: 1s - loss: 0.3269 - accuracy: 0.88 - ETA: 1s - loss: 0.3210 - accuracy: 0.88 - ETA: 1s - loss: 0.3266 - accuracy: 0.87 - ETA: 1s - loss: 0.3389 - accuracy: 0.87 - ETA: 1s - loss: 0.3348 - accuracy: 0.87 - ETA: 1s - loss: 0.3420 - accuracy: 0.87 - ETA: 1s - loss: 0.3464 - accuracy: 0.87 - ETA: 1s - loss: 0.3458 - accuracy: 0.87 - ETA: 1s - loss: 0.3459 - accuracy: 0.87 - ETA: 1s - loss: 0.3472 - accuracy: 0.87 - ETA: 1s - loss: 0.3480 - accuracy: 0.87 - ETA: 1s - loss: 0.3452 - accuracy: 0.87 - ETA: 1s - loss: 0.3461 - accuracy: 0.87 - ETA: 1s - loss: 0.3440 - accuracy: 0.87 - ETA: 1s - loss: 0.3420 - accuracy: 0.87 - ETA: 1s - loss: 0.3419 - accuracy: 0.87 - ETA: 1s - loss: 0.3392 - accuracy: 0.87 - ETA: 1s - loss: 0.3409 - accuracy: 0.87 - ETA: 1s - loss: 0.3389 - accuracy: 0.87 - ETA: 1s - loss: 0.3394 - accuracy: 0.87 - ETA: 0s - loss: 0.3379 - accuracy: 0.87 - ETA: 0s - loss: 0.3398 - accuracy: 0.87 - ETA: 0s - loss: 0.3387 - accuracy: 0.87 - ETA: 0s - loss: 0.3392 - accuracy: 0.87 - ETA: 0s - loss: 0.3392 - accuracy: 0.87 - ETA: 0s - loss: 0.3374 - accuracy: 0.87 - ETA: 0s - loss: 0.3377 - accuracy: 0.87 - ETA: 0s - loss: 0.3387 - accuracy: 0.87 - ETA: 0s - loss: 0.3388 - accuracy: 0.87 - ETA: 0s - loss: 0.3397 - accuracy: 0.87 - ETA: 0s - loss: 0.3399 - accuracy: 0.87 - ETA: 0s - loss: 0.3385 - accuracy: 0.87 - ETA: 0s - loss: 0.3377 - accuracy: 0.87 - ETA: 0s - loss: 0.3373 - accuracy: 0.87 - ETA: 0s - loss: 0.3362 - accuracy: 0.87 - ETA: 0s - loss: 0.3359 - accuracy: 0.87 - 2s 1ms/step - loss: 0.3357 - accuracy: 0.8786 - val_loss: 0.3750 - val_accuracy: 0.8661\n",
      "Epoch 4/10\n",
      "1875/1875 [==============================] - ETA: 0s - loss: 0.1181 - accuracy: 0.96 - ETA: 1s - loss: 0.3029 - accuracy: 0.88 - ETA: 1s - loss: 0.3004 - accuracy: 0.88 - ETA: 1s - loss: 0.3079 - accuracy: 0.88 - ETA: 1s - loss: 0.3157 - accuracy: 0.88 - ETA: 1s - loss: 0.3123 - accuracy: 0.88 - ETA: 1s - loss: 0.3121 - accuracy: 0.88 - ETA: 1s - loss: 0.3113 - accuracy: 0.88 - ETA: 1s - loss: 0.3112 - accuracy: 0.88 - ETA: 1s - loss: 0.3130 - accuracy: 0.88 - ETA: 0s - loss: 0.3143 - accuracy: 0.88 - ETA: 0s - loss: 0.3145 - accuracy: 0.88 - ETA: 0s - loss: 0.3142 - accuracy: 0.88 - ETA: 0s - loss: 0.3139 - accuracy: 0.88 - ETA: 0s - loss: 0.3136 - accuracy: 0.88 - ETA: 0s - loss: 0.3140 - accuracy: 0.88 - ETA: 0s - loss: 0.3134 - accuracy: 0.88 - ETA: 0s - loss: 0.3130 - accuracy: 0.88 - ETA: 0s - loss: 0.3129 - accuracy: 0.88 - ETA: 0s - loss: 0.3116 - accuracy: 0.88 - ETA: 0s - loss: 0.3112 - accuracy: 0.88 - ETA: 0s - loss: 0.3108 - accuracy: 0.88 - ETA: 0s - loss: 0.3108 - accuracy: 0.88 - ETA: 0s - loss: 0.3115 - accuracy: 0.88 - ETA: 0s - loss: 0.3130 - accuracy: 0.88 - ETA: 0s - loss: 0.3126 - accuracy: 0.88 - ETA: 0s - loss: 0.3122 - accuracy: 0.88 - ETA: 0s - loss: 0.3122 - accuracy: 0.88 - ETA: 0s - loss: 0.3123 - accuracy: 0.88 - ETA: 0s - loss: 0.3120 - accuracy: 0.88 - ETA: 0s - loss: 0.3121 - accuracy: 0.88 - 2s 915us/step - loss: 0.3121 - accuracy: 0.8849 - val_loss: 0.3661 - val_accuracy: 0.8714\n",
      "Epoch 5/10\n"
     ]
    },
    {
     "name": "stdout",
     "output_type": "stream",
     "text": [
      "1875/1875 [==============================] - ETA: 0s - loss: 0.2375 - accuracy: 0.93 - ETA: 1s - loss: 0.2739 - accuracy: 0.89 - ETA: 1s - loss: 0.2940 - accuracy: 0.89 - ETA: 1s - loss: 0.2997 - accuracy: 0.88 - ETA: 1s - loss: 0.2928 - accuracy: 0.88 - ETA: 1s - loss: 0.2902 - accuracy: 0.88 - ETA: 1s - loss: 0.2890 - accuracy: 0.89 - ETA: 1s - loss: 0.2935 - accuracy: 0.88 - ETA: 1s - loss: 0.2935 - accuracy: 0.88 - ETA: 1s - loss: 0.2938 - accuracy: 0.88 - ETA: 1s - loss: 0.2953 - accuracy: 0.89 - ETA: 0s - loss: 0.2943 - accuracy: 0.89 - ETA: 0s - loss: 0.2938 - accuracy: 0.89 - ETA: 0s - loss: 0.2955 - accuracy: 0.89 - ETA: 0s - loss: 0.2978 - accuracy: 0.88 - ETA: 0s - loss: 0.2955 - accuracy: 0.89 - ETA: 0s - loss: 0.2954 - accuracy: 0.89 - ETA: 0s - loss: 0.2965 - accuracy: 0.89 - ETA: 0s - loss: 0.2973 - accuracy: 0.88 - ETA: 0s - loss: 0.2969 - accuracy: 0.88 - ETA: 0s - loss: 0.2959 - accuracy: 0.89 - ETA: 0s - loss: 0.2965 - accuracy: 0.89 - ETA: 0s - loss: 0.2965 - accuracy: 0.89 - ETA: 0s - loss: 0.2962 - accuracy: 0.89 - ETA: 0s - loss: 0.2958 - accuracy: 0.89 - ETA: 0s - loss: 0.2953 - accuracy: 0.89 - ETA: 0s - loss: 0.2958 - accuracy: 0.89 - ETA: 0s - loss: 0.2952 - accuracy: 0.89 - ETA: 0s - loss: 0.2954 - accuracy: 0.89 - ETA: 0s - loss: 0.2951 - accuracy: 0.89 - ETA: 0s - loss: 0.2955 - accuracy: 0.89 - ETA: 0s - loss: 0.2946 - accuracy: 0.89 - ETA: 0s - loss: 0.2946 - accuracy: 0.89 - 2s 991us/step - loss: 0.2940 - accuracy: 0.8914 - val_loss: 0.3604 - val_accuracy: 0.8702\n",
      "Epoch 6/10\n",
      "1875/1875 [==============================] - ETA: 0s - loss: 0.3607 - accuracy: 0.87 - ETA: 1s - loss: 0.3108 - accuracy: 0.88 - ETA: 1s - loss: 0.2904 - accuracy: 0.89 - ETA: 1s - loss: 0.2890 - accuracy: 0.89 - ETA: 1s - loss: 0.2935 - accuracy: 0.89 - ETA: 1s - loss: 0.2875 - accuracy: 0.89 - ETA: 1s - loss: 0.2908 - accuracy: 0.89 - ETA: 1s - loss: 0.2870 - accuracy: 0.89 - ETA: 1s - loss: 0.2875 - accuracy: 0.89 - ETA: 1s - loss: 0.2884 - accuracy: 0.89 - ETA: 1s - loss: 0.2909 - accuracy: 0.89 - ETA: 1s - loss: 0.2916 - accuracy: 0.89 - ETA: 1s - loss: 0.2883 - accuracy: 0.89 - ETA: 1s - loss: 0.2843 - accuracy: 0.89 - ETA: 1s - loss: 0.2869 - accuracy: 0.89 - ETA: 1s - loss: 0.2876 - accuracy: 0.89 - ETA: 1s - loss: 0.2888 - accuracy: 0.89 - ETA: 1s - loss: 0.2871 - accuracy: 0.89 - ETA: 0s - loss: 0.2879 - accuracy: 0.89 - ETA: 0s - loss: 0.2873 - accuracy: 0.89 - ETA: 0s - loss: 0.2872 - accuracy: 0.89 - ETA: 0s - loss: 0.2856 - accuracy: 0.89 - ETA: 0s - loss: 0.2856 - accuracy: 0.89 - ETA: 0s - loss: 0.2871 - accuracy: 0.89 - ETA: 0s - loss: 0.2849 - accuracy: 0.89 - ETA: 0s - loss: 0.2835 - accuracy: 0.89 - ETA: 0s - loss: 0.2821 - accuracy: 0.89 - ETA: 0s - loss: 0.2813 - accuracy: 0.89 - ETA: 0s - loss: 0.2816 - accuracy: 0.89 - ETA: 0s - loss: 0.2818 - accuracy: 0.89 - ETA: 0s - loss: 0.2823 - accuracy: 0.89 - ETA: 0s - loss: 0.2832 - accuracy: 0.89 - ETA: 0s - loss: 0.2831 - accuracy: 0.89 - ETA: 0s - loss: 0.2836 - accuracy: 0.89 - ETA: 0s - loss: 0.2831 - accuracy: 0.89 - ETA: 0s - loss: 0.2824 - accuracy: 0.89 - ETA: 0s - loss: 0.2820 - accuracy: 0.89 - ETA: 0s - loss: 0.2816 - accuracy: 0.89 - 2s 1ms/step - loss: 0.2816 - accuracy: 0.8952 - val_loss: 0.3679 - val_accuracy: 0.8676\n",
      "Epoch 7/10\n",
      "1875/1875 [==============================] - ETA: 0s - loss: 0.2935 - accuracy: 0.87 - ETA: 2s - loss: 0.2510 - accuracy: 0.90 - ETA: 2s - loss: 0.2551 - accuracy: 0.90 - ETA: 2s - loss: 0.2582 - accuracy: 0.90 - ETA: 1s - loss: 0.2674 - accuracy: 0.90 - ETA: 1s - loss: 0.2689 - accuracy: 0.89 - ETA: 1s - loss: 0.2657 - accuracy: 0.89 - ETA: 1s - loss: 0.2650 - accuracy: 0.89 - ETA: 1s - loss: 0.2656 - accuracy: 0.89 - ETA: 1s - loss: 0.2651 - accuracy: 0.89 - ETA: 1s - loss: 0.2643 - accuracy: 0.89 - ETA: 1s - loss: 0.2645 - accuracy: 0.89 - ETA: 1s - loss: 0.2686 - accuracy: 0.89 - ETA: 1s - loss: 0.2684 - accuracy: 0.89 - ETA: 1s - loss: 0.2677 - accuracy: 0.89 - ETA: 1s - loss: 0.2677 - accuracy: 0.89 - ETA: 1s - loss: 0.2682 - accuracy: 0.89 - ETA: 1s - loss: 0.2662 - accuracy: 0.90 - ETA: 1s - loss: 0.2657 - accuracy: 0.90 - ETA: 0s - loss: 0.2663 - accuracy: 0.90 - ETA: 0s - loss: 0.2679 - accuracy: 0.89 - ETA: 0s - loss: 0.2669 - accuracy: 0.90 - ETA: 0s - loss: 0.2681 - accuracy: 0.89 - ETA: 0s - loss: 0.2687 - accuracy: 0.89 - ETA: 0s - loss: 0.2704 - accuracy: 0.89 - ETA: 0s - loss: 0.2690 - accuracy: 0.89 - ETA: 0s - loss: 0.2683 - accuracy: 0.89 - ETA: 0s - loss: 0.2678 - accuracy: 0.90 - ETA: 0s - loss: 0.2672 - accuracy: 0.90 - ETA: 0s - loss: 0.2674 - accuracy: 0.90 - ETA: 0s - loss: 0.2669 - accuracy: 0.90 - ETA: 0s - loss: 0.2673 - accuracy: 0.90 - ETA: 0s - loss: 0.2675 - accuracy: 0.90 - ETA: 0s - loss: 0.2681 - accuracy: 0.90 - ETA: 0s - loss: 0.2685 - accuracy: 0.89 - ETA: 0s - loss: 0.2682 - accuracy: 0.89 - ETA: 0s - loss: 0.2679 - accuracy: 0.90 - ETA: 0s - loss: 0.2683 - accuracy: 0.89 - ETA: 0s - loss: 0.2686 - accuracy: 0.89 - ETA: 0s - loss: 0.2695 - accuracy: 0.89 - 2s 1ms/step - loss: 0.2696 - accuracy: 0.8997 - val_loss: 0.3371 - val_accuracy: 0.8770\n",
      "Epoch 8/10\n",
      "1875/1875 [==============================] - ETA: 0s - loss: 0.0676 - accuracy: 0.96 - ETA: 2s - loss: 0.2652 - accuracy: 0.90 - ETA: 2s - loss: 0.2628 - accuracy: 0.90 - ETA: 2s - loss: 0.2481 - accuracy: 0.90 - ETA: 2s - loss: 0.2455 - accuracy: 0.90 - ETA: 2s - loss: 0.2490 - accuracy: 0.90 - ETA: 2s - loss: 0.2514 - accuracy: 0.90 - ETA: 2s - loss: 0.2516 - accuracy: 0.90 - ETA: 1s - loss: 0.2496 - accuracy: 0.90 - ETA: 1s - loss: 0.2521 - accuracy: 0.90 - ETA: 1s - loss: 0.2498 - accuracy: 0.90 - ETA: 1s - loss: 0.2497 - accuracy: 0.90 - ETA: 1s - loss: 0.2485 - accuracy: 0.90 - ETA: 1s - loss: 0.2505 - accuracy: 0.90 - ETA: 1s - loss: 0.2535 - accuracy: 0.90 - ETA: 1s - loss: 0.2507 - accuracy: 0.90 - ETA: 1s - loss: 0.2509 - accuracy: 0.90 - ETA: 1s - loss: 0.2533 - accuracy: 0.90 - ETA: 1s - loss: 0.2542 - accuracy: 0.90 - ETA: 1s - loss: 0.2555 - accuracy: 0.90 - ETA: 1s - loss: 0.2569 - accuracy: 0.90 - ETA: 1s - loss: 0.2564 - accuracy: 0.90 - ETA: 1s - loss: 0.2561 - accuracy: 0.90 - ETA: 0s - loss: 0.2566 - accuracy: 0.90 - ETA: 0s - loss: 0.2576 - accuracy: 0.90 - ETA: 0s - loss: 0.2570 - accuracy: 0.90 - ETA: 0s - loss: 0.2574 - accuracy: 0.90 - ETA: 0s - loss: 0.2584 - accuracy: 0.90 - ETA: 0s - loss: 0.2590 - accuracy: 0.90 - ETA: 0s - loss: 0.2590 - accuracy: 0.90 - ETA: 0s - loss: 0.2595 - accuracy: 0.90 - ETA: 0s - loss: 0.2591 - accuracy: 0.90 - ETA: 0s - loss: 0.2594 - accuracy: 0.90 - ETA: 0s - loss: 0.2596 - accuracy: 0.90 - ETA: 0s - loss: 0.2596 - accuracy: 0.90 - ETA: 0s - loss: 0.2587 - accuracy: 0.90 - ETA: 0s - loss: 0.2589 - accuracy: 0.90 - ETA: 0s - loss: 0.2588 - accuracy: 0.90 - ETA: 0s - loss: 0.2588 - accuracy: 0.90 - ETA: 0s - loss: 0.2587 - accuracy: 0.90 - ETA: 0s - loss: 0.2589 - accuracy: 0.90 - ETA: 0s - loss: 0.2585 - accuracy: 0.90 - 2s 1ms/step - loss: 0.2581 - accuracy: 0.9041 - val_loss: 0.3326 - val_accuracy: 0.8834\n",
      "Epoch 9/10\n"
     ]
    },
    {
     "name": "stdout",
     "output_type": "stream",
     "text": [
      "1875/1875 [==============================] - ETA: 0s - loss: 0.1057 - accuracy: 0.96 - ETA: 2s - loss: 0.2438 - accuracy: 0.90 - ETA: 1s - loss: 0.2313 - accuracy: 0.91 - ETA: 1s - loss: 0.2340 - accuracy: 0.91 - ETA: 1s - loss: 0.2262 - accuracy: 0.91 - ETA: 1s - loss: 0.2305 - accuracy: 0.91 - ETA: 1s - loss: 0.2370 - accuracy: 0.91 - ETA: 1s - loss: 0.2391 - accuracy: 0.91 - ETA: 1s - loss: 0.2397 - accuracy: 0.91 - ETA: 1s - loss: 0.2388 - accuracy: 0.91 - ETA: 1s - loss: 0.2411 - accuracy: 0.90 - ETA: 1s - loss: 0.2422 - accuracy: 0.90 - ETA: 1s - loss: 0.2442 - accuracy: 0.90 - ETA: 1s - loss: 0.2422 - accuracy: 0.90 - ETA: 1s - loss: 0.2426 - accuracy: 0.90 - ETA: 1s - loss: 0.2424 - accuracy: 0.91 - ETA: 1s - loss: 0.2417 - accuracy: 0.91 - ETA: 1s - loss: 0.2436 - accuracy: 0.90 - ETA: 0s - loss: 0.2442 - accuracy: 0.90 - ETA: 0s - loss: 0.2454 - accuracy: 0.90 - ETA: 0s - loss: 0.2465 - accuracy: 0.90 - ETA: 0s - loss: 0.2469 - accuracy: 0.90 - ETA: 0s - loss: 0.2471 - accuracy: 0.90 - ETA: 0s - loss: 0.2474 - accuracy: 0.90 - ETA: 0s - loss: 0.2480 - accuracy: 0.90 - ETA: 0s - loss: 0.2482 - accuracy: 0.90 - ETA: 0s - loss: 0.2484 - accuracy: 0.90 - ETA: 0s - loss: 0.2477 - accuracy: 0.90 - ETA: 0s - loss: 0.2473 - accuracy: 0.90 - ETA: 0s - loss: 0.2474 - accuracy: 0.90 - ETA: 0s - loss: 0.2481 - accuracy: 0.90 - ETA: 0s - loss: 0.2486 - accuracy: 0.90 - ETA: 0s - loss: 0.2488 - accuracy: 0.90 - ETA: 0s - loss: 0.2492 - accuracy: 0.90 - ETA: 0s - loss: 0.2485 - accuracy: 0.90 - ETA: 0s - loss: 0.2485 - accuracy: 0.90 - ETA: 0s - loss: 0.2481 - accuracy: 0.90 - 2s 1ms/step - loss: 0.2484 - accuracy: 0.9082 - val_loss: 0.3437 - val_accuracy: 0.8806\n",
      "Epoch 10/10\n",
      "1875/1875 [==============================] - ETA: 0s - loss: 0.1440 - accuracy: 0.93 - ETA: 1s - loss: 0.2414 - accuracy: 0.90 - ETA: 1s - loss: 0.2411 - accuracy: 0.90 - ETA: 1s - loss: 0.2487 - accuracy: 0.90 - ETA: 1s - loss: 0.2457 - accuracy: 0.90 - ETA: 1s - loss: 0.2471 - accuracy: 0.90 - ETA: 1s - loss: 0.2485 - accuracy: 0.90 - ETA: 1s - loss: 0.2463 - accuracy: 0.90 - ETA: 1s - loss: 0.2413 - accuracy: 0.90 - ETA: 1s - loss: 0.2386 - accuracy: 0.90 - ETA: 1s - loss: 0.2387 - accuracy: 0.90 - ETA: 1s - loss: 0.2385 - accuracy: 0.90 - ETA: 1s - loss: 0.2401 - accuracy: 0.90 - ETA: 1s - loss: 0.2394 - accuracy: 0.90 - ETA: 1s - loss: 0.2395 - accuracy: 0.90 - ETA: 1s - loss: 0.2398 - accuracy: 0.90 - ETA: 1s - loss: 0.2406 - accuracy: 0.90 - ETA: 0s - loss: 0.2406 - accuracy: 0.90 - ETA: 0s - loss: 0.2401 - accuracy: 0.90 - ETA: 0s - loss: 0.2408 - accuracy: 0.90 - ETA: 0s - loss: 0.2409 - accuracy: 0.90 - ETA: 0s - loss: 0.2418 - accuracy: 0.90 - ETA: 0s - loss: 0.2420 - accuracy: 0.90 - ETA: 0s - loss: 0.2419 - accuracy: 0.90 - ETA: 0s - loss: 0.2420 - accuracy: 0.90 - ETA: 0s - loss: 0.2412 - accuracy: 0.90 - ETA: 0s - loss: 0.2417 - accuracy: 0.90 - ETA: 0s - loss: 0.2413 - accuracy: 0.90 - ETA: 0s - loss: 0.2413 - accuracy: 0.90 - ETA: 0s - loss: 0.2417 - accuracy: 0.90 - ETA: 0s - loss: 0.2420 - accuracy: 0.90 - ETA: 0s - loss: 0.2415 - accuracy: 0.90 - ETA: 0s - loss: 0.2416 - accuracy: 0.90 - ETA: 0s - loss: 0.2415 - accuracy: 0.90 - ETA: 0s - loss: 0.2414 - accuracy: 0.90 - ETA: 0s - loss: 0.2406 - accuracy: 0.90 - ETA: 0s - loss: 0.2409 - accuracy: 0.90 - ETA: 0s - loss: 0.2413 - accuracy: 0.90 - ETA: 0s - loss: 0.2415 - accuracy: 0.90 - 2s 1ms/step - loss: 0.2414 - accuracy: 0.9087 - val_loss: 0.3351 - val_accuracy: 0.8830\n"
     ]
    },
    {
     "data": {
      "text/plain": [
       "<tensorflow.python.keras.callbacks.History at 0x151dc9b70>"
      ]
     },
     "execution_count": 10,
     "metadata": {},
     "output_type": "execute_result"
    }
   ],
   "source": [
    "# Build the model with the optimal hyperparameters and train it on the data\n",
    "model = tuner.hypermodel.build(best_hps)\n",
    "model.fit(img_train, label_train, epochs = 10, validation_data = (img_test, label_test))"
   ]
  },
  {
   "cell_type": "markdown",
   "metadata": {
    "id": "EQRpPHZsz-eC"
   },
   "source": [
    "The `my_dir/intro_to_kt` directory contains detailed logs and checkpoints for every trial (model configuration) run during the hyperparameter search. If you re-run the hyperparameter search, the Keras Tuner uses the existing state from these logs to resume the search. To disable this behavior, pass an additional `overwrite = True` argument while instantiating the tuner."
   ]
  }
 ],
 "metadata": {
  "colab": {
   "collapsed_sections": [
    "Tce3stUlHN0L"
   ],
   "name": "keras_tuner.ipynb",
   "toc_visible": true
  },
  "kernelspec": {
   "display_name": "dlcourse-venv",
   "language": "python",
   "name": "dlcourse-venv"
  },
  "language_info": {
   "codemirror_mode": {
    "name": "ipython",
    "version": 3
   },
   "file_extension": ".py",
   "mimetype": "text/x-python",
   "name": "python",
   "nbconvert_exporter": "python",
   "pygments_lexer": "ipython3",
   "version": "3.7.0"
  }
 },
 "nbformat": 4,
 "nbformat_minor": 1
}
